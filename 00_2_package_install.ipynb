{
 "cells": [
  {
   "cell_type": "code",
   "execution_count": 1,
   "metadata": {},
   "outputs": [
    {
     "name": "stdout",
     "output_type": "stream",
     "text": [
      "Tue Oct  8 05:42:52 2019       \n",
      "+-----------------------------------------------------------------------------+\n",
      "| NVIDIA-SMI 410.104      Driver Version: 410.104      CUDA Version: 10.0     |\n",
      "|-------------------------------+----------------------+----------------------+\n",
      "| GPU  Name        Persistence-M| Bus-Id        Disp.A | Volatile Uncorr. ECC |\n",
      "| Fan  Temp  Perf  Pwr:Usage/Cap|         Memory-Usage | GPU-Util  Compute M. |\n",
      "|===============================+======================+======================|\n",
      "|   0  Tesla P4            Off  | 00000000:00:04.0 Off |                    0 |\n",
      "| N/A   40C    P0    22W /  75W |      0MiB /  7611MiB |      2%      Default |\n",
      "+-------------------------------+----------------------+----------------------+\n",
      "                                                                               \n",
      "+-----------------------------------------------------------------------------+\n",
      "| Processes:                                                       GPU Memory |\n",
      "|  GPU       PID   Type   Process name                             Usage      |\n",
      "|=============================================================================|\n",
      "|  No running processes found                                                 |\n",
      "+-----------------------------------------------------------------------------+\n"
     ]
    }
   ],
   "source": [
    "!nvidia-smi"
   ]
  },
  {
   "cell_type": "code",
   "execution_count": 2,
   "metadata": {},
   "outputs": [
    {
     "name": "stdout",
     "output_type": "stream",
     "text": [
      "/opt/anaconda3/bin/python\n"
     ]
    }
   ],
   "source": [
    "!which python"
   ]
  },
  {
   "cell_type": "markdown",
   "metadata": {},
   "source": [
    "#### Notebook enviriment is different from system python"
   ]
  },
  {
   "cell_type": "code",
   "execution_count": 2,
   "metadata": {},
   "outputs": [],
   "source": [
    "!pip install pydicom > /dev/null\n",
    "!pip install albumentations > /dev/null\n",
    "!pip install pretrainedmodels > /dev/null"
   ]
  },
  {
   "cell_type": "code",
   "execution_count": 1,
   "metadata": {},
   "outputs": [
    {
     "name": "stdout",
     "output_type": "stream",
     "text": [
      "/opt/anaconda3/bin/pip\n"
     ]
    }
   ],
   "source": [
    "!which pip"
   ]
  },
  {
   "cell_type": "code",
   "execution_count": 1,
   "metadata": {},
   "outputs": [
    {
     "name": "stdout",
     "output_type": "stream",
     "text": [
      "  Running command git clone -q https://github.com/fastai/fastai_dev /tmp/pip-req-build-wwnkpthg\n"
     ]
    }
   ],
   "source": [
    "!pip install feather-format pyarrow --upgrade   > /dev/null\n",
    "!pip install git+https://github.com/fastai/fastai_dev             > /dev/null"
   ]
  },
  {
   "cell_type": "code",
   "execution_count": 1,
   "metadata": {},
   "outputs": [
    {
     "name": "stdout",
     "output_type": "stream",
     "text": [
      "Collecting git+https://github.com/fastai/fastai_dev\n",
      "  Cloning https://github.com/fastai/fastai_dev to /tmp/pip-req-build-5cm6z5qf\n",
      "  Running command git clone -q https://github.com/fastai/fastai_dev /tmp/pip-req-build-5cm6z5qf\n",
      "Requirement already satisfied (use --upgrade to upgrade): fastai2==2.0.1 from git+https://github.com/fastai/fastai_dev in /opt/anaconda3/lib/python3.7/site-packages\n",
      "Requirement already satisfied: torch>=1.2.0 in /opt/anaconda3/lib/python3.7/site-packages (from fastai2==2.0.1) (1.2.0)\n",
      "Requirement already satisfied: torchvision in /opt/anaconda3/lib/python3.7/site-packages (from fastai2==2.0.1) (0.4.0a0+6b959ee)\n",
      "Requirement already satisfied: matplotlib in /opt/anaconda3/lib/python3.7/site-packages (from fastai2==2.0.1) (3.1.1)\n",
      "Requirement already satisfied: pandas in /opt/anaconda3/lib/python3.7/site-packages (from fastai2==2.0.1) (0.25.1)\n",
      "Requirement already satisfied: requests in /opt/anaconda3/lib/python3.7/site-packages (from fastai2==2.0.1) (2.22.0)\n",
      "Requirement already satisfied: pyyaml in /opt/anaconda3/lib/python3.7/site-packages (from fastai2==2.0.1) (5.1.2)\n",
      "Requirement already satisfied: fastprogress in /opt/anaconda3/lib/python3.7/site-packages (from fastai2==2.0.1) (0.1.21)\n",
      "Requirement already satisfied: pillow in /opt/anaconda3/lib/python3.7/site-packages (from fastai2==2.0.1) (6.1.0)\n",
      "Requirement already satisfied: scikit-learn in /opt/anaconda3/lib/python3.7/site-packages (from fastai2==2.0.1) (0.21.3)\n",
      "Requirement already satisfied: scipy in /opt/anaconda3/lib/python3.7/site-packages (from fastai2==2.0.1) (1.3.1)\n",
      "Requirement already satisfied: spacy in /opt/anaconda3/lib/python3.7/site-packages (from fastai2==2.0.1) (2.1.8)\n",
      "Requirement already satisfied: numpy in /opt/anaconda3/lib/python3.7/site-packages (from torch>=1.2.0->fastai2==2.0.1) (1.17.2)\n",
      "Requirement already satisfied: six in /opt/anaconda3/lib/python3.7/site-packages (from torchvision->fastai2==2.0.1) (1.12.0)\n",
      "Requirement already satisfied: cycler>=0.10 in /opt/anaconda3/lib/python3.7/site-packages (from matplotlib->fastai2==2.0.1) (0.10.0)\n",
      "Requirement already satisfied: kiwisolver>=1.0.1 in /opt/anaconda3/lib/python3.7/site-packages (from matplotlib->fastai2==2.0.1) (1.1.0)\n",
      "Requirement already satisfied: pyparsing!=2.0.4,!=2.1.2,!=2.1.6,>=2.0.1 in /opt/anaconda3/lib/python3.7/site-packages (from matplotlib->fastai2==2.0.1) (2.4.2)\n",
      "Requirement already satisfied: python-dateutil>=2.1 in /opt/anaconda3/lib/python3.7/site-packages (from matplotlib->fastai2==2.0.1) (2.8.0)\n",
      "Requirement already satisfied: pytz>=2017.2 in /opt/anaconda3/lib/python3.7/site-packages (from pandas->fastai2==2.0.1) (2019.2)\n",
      "Requirement already satisfied: idna<2.9,>=2.5 in /opt/anaconda3/lib/python3.7/site-packages (from requests->fastai2==2.0.1) (2.8)\n",
      "Requirement already satisfied: urllib3!=1.25.0,!=1.25.1,<1.26,>=1.21.1 in /opt/anaconda3/lib/python3.7/site-packages (from requests->fastai2==2.0.1) (1.24.2)\n",
      "Requirement already satisfied: chardet<3.1.0,>=3.0.2 in /opt/anaconda3/lib/python3.7/site-packages (from requests->fastai2==2.0.1) (3.0.4)\n",
      "Requirement already satisfied: certifi>=2017.4.17 in /opt/anaconda3/lib/python3.7/site-packages (from requests->fastai2==2.0.1) (2019.9.11)\n",
      "Requirement already satisfied: joblib>=0.11 in /opt/anaconda3/lib/python3.7/site-packages (from scikit-learn->fastai2==2.0.1) (0.13.2)\n",
      "Requirement already satisfied: cymem<2.1.0,>=2.0.2 in /opt/anaconda3/lib/python3.7/site-packages (from spacy->fastai2==2.0.1) (2.0.2)\n",
      "Requirement already satisfied: plac<1.0.0,>=0.9.6 in /opt/anaconda3/lib/python3.7/site-packages (from spacy->fastai2==2.0.1) (0.9.6)\n",
      "Requirement already satisfied: murmurhash<1.1.0,>=0.28.0 in /opt/anaconda3/lib/python3.7/site-packages (from spacy->fastai2==2.0.1) (1.0.2)\n",
      "Requirement already satisfied: blis<0.3.0,>=0.2.2 in /opt/anaconda3/lib/python3.7/site-packages (from spacy->fastai2==2.0.1) (0.2.4)\n",
      "Requirement already satisfied: srsly<1.1.0,>=0.0.6 in /opt/anaconda3/lib/python3.7/site-packages (from spacy->fastai2==2.0.1) (0.1.0)\n",
      "Requirement already satisfied: wasabi<1.1.0,>=0.2.0 in /opt/anaconda3/lib/python3.7/site-packages (from spacy->fastai2==2.0.1) (0.2.2)\n",
      "Requirement already satisfied: preshed<2.1.0,>=2.0.1 in /opt/anaconda3/lib/python3.7/site-packages (from spacy->fastai2==2.0.1) (2.0.1)\n",
      "Requirement already satisfied: thinc<7.1.0,>=7.0.8 in /opt/anaconda3/lib/python3.7/site-packages (from spacy->fastai2==2.0.1) (7.0.8)\n",
      "Requirement already satisfied: setuptools in /opt/anaconda3/lib/python3.7/site-packages (from kiwisolver>=1.0.1->matplotlib->fastai2==2.0.1) (41.0.1)\n",
      "Requirement already satisfied: tqdm<5.0.0,>=4.10.0 in /opt/anaconda3/lib/python3.7/site-packages (from thinc<7.1.0,>=7.0.8->spacy->fastai2==2.0.1) (4.36.1)\n",
      "Building wheels for collected packages: fastai2\n",
      "  Building wheel for fastai2 (setup.py) ... \u001b[?25ldone\n",
      "\u001b[?25h  Stored in directory: /tmp/pip-ephem-wheel-cache-4244r793/wheels/3e/b2/15/88c105fb1591b06b8445ff21b00f1e03d9176d22eb9f1de934\n",
      "Successfully built fastai2\n",
      "Note: you may need to restart the kernel to use updated packages.\n"
     ]
    }
   ],
   "source": [
    "pip install git+https://github.com/fastai/fastai_dev "
   ]
  },
  {
   "cell_type": "code",
   "execution_count": 12,
   "metadata": {},
   "outputs": [],
   "source": [
    "# git clone https://github.com/NVIDIA/apex\n",
    "# cd apex\n",
    "# source /opt/anaconda3/bin/activate \n",
    "# pip install -v --no-cache-dir --global-option=\"--cpp_ext\" --global-option=\"--cuda_ext\" ./"
   ]
  }
 ],
 "metadata": {
  "kernelspec": {
   "display_name": "Python 3",
   "language": "python",
   "name": "python3"
  },
  "language_info": {
   "codemirror_mode": {
    "name": "ipython",
    "version": 3
   },
   "file_extension": ".py",
   "mimetype": "text/x-python",
   "name": "python",
   "nbconvert_exporter": "python",
   "pygments_lexer": "ipython3",
   "version": "3.7.4"
  }
 },
 "nbformat": 4,
 "nbformat_minor": 4
}
